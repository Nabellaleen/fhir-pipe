{
 "cells": [
  {
   "cell_type": "markdown",
   "metadata": {},
   "source": [
    "# Using fhir-pipe\n",
    "\n",
    "Here is a demo of our pipe which takes in input **mapping rules** and a **SQL database** and output data in the **FHIR format**."
   ]
  },
  {
   "cell_type": "markdown",
   "metadata": {},
   "source": [
    "## Set up\n",
    "\n",
    "Before starting, you need... mapping and a SQL database! Fortunately we have already provided some rules in the repository [`fhir-mapping`](https://github.com/arkhn/fhir-mapping), so all you have to do is to clone it in the same folder than `fhir-pipe`. Regarding data, well, we have provided a small SQL script `config_cw_local.sql` which will build a very small and fake database following the CW format and which is for illustrative purpose. To build your mock `cw_local` database, [install psql](https://www.postgresql.org/download/) (_you only need the command line tool_) and run:\n",
    "\n",
    "    psql -f config_cw_local.sql "
   ]
  },
  {
   "cell_type": "markdown",
   "metadata": {},
   "source": [
    "## Let's get started !"
   ]
  },
  {
   "cell_type": "code",
   "execution_count": 1,
   "metadata": {},
   "outputs": [],
   "source": [
    "import json\n",
    "import arkhn"
   ]
  },
  {
   "cell_type": "markdown",
   "metadata": {},
   "source": [
    "> If it doesn't work, import it in your bash_profile / bash_rc if necessary, eg you can add the line as we don't have a `setup.py` so far (<-- Good First Issue)\n",
    ">\n",
    ">     export PYTHONPATH=$PYTHONPATH:/Users/ryffel/Documents/Code/fhir_pipe"
   ]
  },
  {
   "cell_type": "markdown",
   "metadata": {},
   "source": [
    "Precise the project and the FHIR resource you want to fill"
   ]
  },
  {
   "cell_type": "code",
   "execution_count": 2,
   "metadata": {},
   "outputs": [],
   "source": [
    "project = 'CW'\n",
    "resource = 'patient'\n",
    "data = arkhn.loader.load(project, resource)"
   ]
  },
  {
   "cell_type": "code",
   "execution_count": 3,
   "metadata": {},
   "outputs": [],
   "source": [
    "patient = data['fhir']\n",
    "info = data['info']"
   ]
  },
  {
   "cell_type": "markdown",
   "metadata": {},
   "source": [
    "### Fetch the data from SQL\n",
    "\n",
    "Build the SQL query, and output also the graph of joins"
   ]
  },
  {
   "cell_type": "code",
   "execution_count": 4,
   "metadata": {
    "scrolled": true
   },
   "outputs": [
    {
     "name": "stdout",
     "output_type": "stream",
     "text": [
      "PATIENT --- PATCOMP\n",
      "PATIENT --- PATADR\n",
      "PATADR --- PAYS\n",
      "PATIENT -<= PAT_PAP\n",
      "PAT_PAP --- TYPELIEN\n"
     ]
    }
   ],
   "source": [
    "sql_query, squash_rules, graph = arkhn.parser.build_sql_query(project, patient, info)"
   ]
  },
  {
   "cell_type": "code",
   "execution_count": 5,
   "metadata": {},
   "outputs": [
    {
     "data": {
      "text/plain": [
       "[PATIENT O2O:(PATCOMP,PATADR) O2M:(PAT_PAP)]"
      ]
     },
     "execution_count": 5,
     "metadata": {},
     "output_type": "execute_result"
    }
   ],
   "source": [
    "graph.get('PATIENT')"
   ]
  },
  {
   "cell_type": "code",
   "execution_count": 6,
   "metadata": {
    "scrolled": false
   },
   "outputs": [
    {
     "name": "stdout",
     "output_type": "stream",
     "text": [
      "[(0, 1, 2, 3, 4, 5, 6, 7, 8, 9, 10, 11, 12, 13, 14, 15, 16), [[(17, 18, 19, 20, 21, 22, 23, 24, 25, 26, 27, 28), []]]]\n",
      "SELECT PATCOMP.NUMSECU, PATCOMP.INSEE, PATIENT.NOMPAT, PATIENT.PREPAT, PATADR.TEL, PATIENT.SEXE, PATIENT.DTNAIS, PATIENT.DECEDE, PATIENT.DTDECES, PATADR.ADR1, PATADR.ADR2, PATADR.ADR3, PATADR.ADR4, PATADR.VILLE, PATADR.CP, PAYS.LIBELLE, PATCOMP.SITUAFAM, TYPELIEN.LIENFAMILIAL, PAT_PAP.NOM, PAT_PAP.PRENOM, PAT_PAP.TELDOM, PAT_PAP.TELDOM, PAT_PAP.TELDOM, PAT_PAP.TELMOB, PAT_PAP.TELMOB, PAT_PAP.TELMOB, PAT_PAP.TELPROF, PAT_PAP.TELPROF, PAT_PAP.TELPROF FROM PATIENT LEFT JOIN PATCOMP ON PATIENT.NOPAT = PATCOMP.NOPAT LEFT JOIN PATADR ON PATIENT.NOPAT = PATADR.NOPAT LEFT JOIN PAYS ON PATADR.NOPAYS = PAYS.NOPAYS LEFT JOIN PAT_PAP ON PATIENT.NOPAT = PAT_PAP.NOPAT LEFT JOIN TYPELIEN ON PAT_PAP.NOTYPE_LP = TYPELIEN.NOTYPELIEN;\n"
     ]
    }
   ],
   "source": [
    "print(squash_rules)\n",
    "print(sql_query)"
   ]
  },
  {
   "cell_type": "markdown",
   "metadata": {},
   "source": [
    "Run the SQL query"
   ]
  },
  {
   "cell_type": "code",
   "execution_count": 7,
   "metadata": {},
   "outputs": [],
   "source": [
    "rows = arkhn.sql.run(sql_query)"
   ]
  },
  {
   "cell_type": "markdown",
   "metadata": {},
   "source": [
    "Show results "
   ]
  },
  {
   "cell_type": "code",
   "execution_count": 8,
   "metadata": {},
   "outputs": [
    {
     "name": "stdout",
     "output_type": "stream",
     "text": [
      "('188097728809897', '27770', 'SARDOU', 'MICHELLE', '01-34.87 21 00', 'F', '19700401', 'N', '', '3 rue Soufflot', 'Batiment 23', '', '', 'Paris 5e', '75005', 'FRANCE', 'M', 'Pere', 'GOTTAR', 'Michel', '0666775328', '0666775328', '0666775328', '', '', '', '', '', '')\n",
      "('NaN', '262047511447626', 'KIRIKOU', 'MARCEL', '01-00.87 20 00', 'M', '19940506', 'O', '20180922', '69 Bvd St Germain', 'Hôtel de Guermantes', '', '', 'Paris', '75006', 'LIECHTENSTEIN', 'V', 'Mere', 'Guermantes', 'Alphonse', '06 86 79 53 63', '06 86 79 53 63', '06 86 79 53 63', '', '', '', '', '', '')\n",
      "('NaN', '262047511447626', 'KIRIKOU', 'MARCEL', '01-00.87 20 00', 'M', '19940506', 'O', '20180922', '69 Bvd St Germain', 'Hôtel de Guermantes', '', '', 'Paris', '75006', 'LIECHTENSTEIN', 'V', 'Femme', 'De Saint Loup', 'Robert', '', '', '', '07 86 29 00 61', '07 86 29 00 61', '07 86 29 00 61', '', '', '')\n"
     ]
    }
   ],
   "source": [
    "for row in rows:\n",
    "    print(row)"
   ]
  },
  {
   "cell_type": "markdown",
   "metadata": {},
   "source": [
    "### Process the data and fill in the FHIR format"
   ]
  },
  {
   "cell_type": "markdown",
   "metadata": {},
   "source": [
    "Apply the One to Many joins: for example here rows 2 and 3 refer to the same patient, but with two contact person to call. Using `squash_rules` you can merge/squash these two rows."
   ]
  },
  {
   "cell_type": "code",
   "execution_count": 9,
   "metadata": {},
   "outputs": [],
   "source": [
    "rows = arkhn.sql.apply_joins(rows, squash_rules)"
   ]
  },
  {
   "cell_type": "markdown",
   "metadata": {},
   "source": [
    "There is now only 2 rows"
   ]
  },
  {
   "cell_type": "code",
   "execution_count": 10,
   "metadata": {},
   "outputs": [
    {
     "name": "stdout",
     "output_type": "stream",
     "text": [
      "['188097728809897', '27770', 'SARDOU', 'MICHELLE', '01-34.87 21 00', 'F', '19700401', 'N', '', '3 rue Soufflot', 'Batiment 23', '', '', 'Paris 5e', '75005', 'FRANCE', 'M', [['Pere', 'GOTTAR', 'Michel', '0666775328', '0666775328', '0666775328', '', '', '', '', '', '']]]\n",
      "['NaN', '262047511447626', 'KIRIKOU', 'MARCEL', '01-00.87 20 00', 'M', '19940506', 'O', '20180922', '69 Bvd St Germain', 'Hôtel de Guermantes', '', '', 'Paris', '75006', 'LIECHTENSTEIN', 'V', [['Mere', 'Guermantes', 'Alphonse', '06 86 79 53 63', '06 86 79 53 63', '06 86 79 53 63', '', '', '', '', '', ''], ['Femme', 'De Saint Loup', 'Robert', '', '', '', '07 86 29 00 61', '07 86 29 00 61', '07 86 29 00 61', '', '', '']]]\n"
     ]
    }
   ],
   "source": [
    "for row in rows:\n",
    "    print(row)"
   ]
  },
  {
   "cell_type": "markdown",
   "metadata": {},
   "source": [
    "Generate JSON and output it to `data.txt`"
   ]
  },
  {
   "cell_type": "code",
   "execution_count": 11,
   "metadata": {
    "scrolled": true
   },
   "outputs": [
    {
     "name": "stdout",
     "output_type": "stream",
     "text": [
      "***\n",
      "Entity with 22 elems\n",
      "{\n",
      "  \"resourceType\": \"Patient\",\n",
      "  \"identifier\": [\n",
      "    {\n",
      "      \"type\": {\n",
      "        \"text\": \"Num secu INSEE\"\n",
      "      },\n",
      "      \"value\": \"188097728809897\"\n",
      "    }\n",
      "  ],\n",
      "  \"name\": [\n",
      "    {\n",
      "      \"family\": \"Sardou\",\n",
      "      \"given\": [\n",
      "        \"Michelle\"\n",
      "      ]\n",
      "    }\n",
      "  ],\n",
      "  \"telecom\": [\n",
      "    {\n",
      "      \"system\": \"phone\",\n",
      "      \"value\": \"01 34 87 21 00\"\n",
      "    }\n",
      "  ],\n",
      "  \"gender\": \"female\",\n",
      "  \"birthDate\": \"1970-04-01T00:00:00\",\n",
      "  \"deceasedBoolean\": false,\n",
      "  \"address\": [\n",
      "    {\n",
      "      \"line\": [\n",
      "        \"3 rue Soufflot\",\n",
      "        \"Batiment 23\"\n",
      "      ],\n",
      "      \"city\": \"Paris 5e\",\n",
      "      \"postalCode\": \"75005\",\n",
      "      \"country\": \"France\"\n",
      "    }\n",
      "  ],\n",
      "  \"maritalStatus\": {\n",
      "    \"text\": \"Marié(e)\"\n",
      "  },\n",
      "  \"contact\": [\n",
      "    {\n",
      "      \"relationship\": [\n",
      "        {\n",
      "          \"text\": \"Pere\"\n",
      "        }\n",
      "      ],\n",
      "      \"name\": {\n",
      "        \"family\": \"Gottar\",\n",
      "        \"given\": [\n",
      "          \"Michel\"\n",
      "        ]\n",
      "      },\n",
      "      \"telecom\": [\n",
      "        {\n",
      "          \"system\": \"phone\",\n",
      "          \"value\": \"06 66 77 53 28\",\n",
      "          \"use\": \"home\"\n",
      "        }\n",
      "      ]\n",
      "    }\n",
      "  ]\n",
      "}\n",
      "***\n",
      "Entity with 29 elems\n",
      "{\n",
      "  \"resourceType\": \"Patient\",\n",
      "  \"identifier\": [\n",
      "    {\n",
      "      \"type\": {\n",
      "        \"text\": \"Num secu INSEE\"\n",
      "      },\n",
      "      \"value\": \"262047511447626\"\n",
      "    }\n",
      "  ],\n",
      "  \"name\": [\n",
      "    {\n",
      "      \"family\": \"Kirikou\",\n",
      "      \"given\": [\n",
      "        \"Marcel\"\n",
      "      ]\n",
      "    }\n",
      "  ],\n",
      "  \"telecom\": [\n",
      "    {\n",
      "      \"system\": \"phone\",\n",
      "      \"value\": \"01 00 87 20 00\"\n",
      "    }\n",
      "  ],\n",
      "  \"gender\": \"male\",\n",
      "  \"birthDate\": \"1994-05-06T00:00:00\",\n",
      "  \"deceasedBoolean\": true,\n",
      "  \"deceasedDateTime\": \"2018-09-22T00:00:00\",\n",
      "  \"address\": [\n",
      "    {\n",
      "      \"line\": [\n",
      "        \"69 Bvd St Germain\",\n",
      "        \"Hôtel de Guermantes\"\n",
      "      ],\n",
      "      \"city\": \"Paris\",\n",
      "      \"postalCode\": \"75006\",\n",
      "      \"country\": \"Liechtenstein\"\n",
      "    }\n",
      "  ],\n",
      "  \"maritalStatus\": {\n",
      "    \"text\": \"Veuvage\"\n",
      "  },\n",
      "  \"contact\": [\n",
      "    {\n",
      "      \"relationship\": [\n",
      "        {\n",
      "          \"text\": \"Mere\"\n",
      "        }\n",
      "      ],\n",
      "      \"name\": {\n",
      "        \"family\": \"Guermantes\",\n",
      "        \"given\": [\n",
      "          \"Alphonse\"\n",
      "        ]\n",
      "      },\n",
      "      \"telecom\": [\n",
      "        {\n",
      "          \"system\": \"phone\",\n",
      "          \"value\": \"06 86 79 53 63\",\n",
      "          \"use\": \"home\"\n",
      "        }\n",
      "      ]\n",
      "    },\n",
      "    {\n",
      "      \"relationship\": [\n",
      "        {\n",
      "          \"text\": \"Femme\"\n",
      "        }\n",
      "      ],\n",
      "      \"name\": {\n",
      "        \"family\": \"De Saint Loup\",\n",
      "        \"given\": [\n",
      "          \"Robert\"\n",
      "        ]\n",
      "      },\n",
      "      \"telecom\": [\n",
      "        {\n",
      "          \"system\": \"phone\",\n",
      "          \"value\": \"07 86 29 00 61\",\n",
      "          \"use\": \"mobile\"\n",
      "        }\n",
      "      ]\n",
      "    }\n",
      "  ]\n",
      "}\n"
     ]
    }
   ],
   "source": [
    "json_rows = []\n",
    "for row in rows:\n",
    "    print('***')\n",
    "    row = list(row)\n",
    "    tree = arkhn.parser.dfs_create_fhir(project, patient, row)\n",
    "    tree, n_leafs = arkhn.parser.clean_fhir(tree)\n",
    "    json_rows.append(tree)\n",
    "    print('Entity with', n_leafs, 'elems')\n",
    "    print(json.dumps(tree, indent=2, ensure_ascii=False))\n",
    "\n",
    "# Uncomment to write to file\n",
    "# arkhn.parser.write_to_file(json_rows, 'integrated_data/data.txt')"
   ]
  },
  {
   "cell_type": "markdown",
   "metadata": {},
   "source": [
    "## Import mappings from distant end point"
   ]
  },
  {
   "cell_type": "code",
   "execution_count": 1,
   "metadata": {},
   "outputs": [],
   "source": [
    "import requests"
   ]
  },
  {
   "cell_type": "code",
   "execution_count": 2,
   "metadata": {},
   "outputs": [],
   "source": [
    "def run_query(endpoint, headers, query):\n",
    "    request = requests.post(\n",
    "        endpoint,\n",
    "        headers=headers,\n",
    "        json={\n",
    "            'query': query,\n",
    "            'variables': None,\n",
    "            'operationName': None,\n",
    "        }\n",
    "    )\n",
    "\n",
    "    if request.status_code == 200:\n",
    "        return request.json()\n",
    "    else:\n",
    "        raise Exception(\"Query failed with returning code {}.\".format(request.status_code))"
   ]
  },
  {
   "cell_type": "code",
   "execution_count": 3,
   "metadata": {},
   "outputs": [],
   "source": [
    "endpoint = 'https://graphql.live.arkhn.org/'"
   ]
  },
  {
   "cell_type": "code",
   "execution_count": 4,
   "metadata": {},
   "outputs": [],
   "source": [
    "headers = {\n",
    "    \"content-type\": \"application/json\",\n",
    "}"
   ]
  },
  {
   "cell_type": "code",
   "execution_count": 18,
   "metadata": {},
   "outputs": [],
   "source": [
    "query = \"\"\"\n",
    "fragment entireJoin on Join {{\n",
    "    id\n",
    "    sourceOwner\n",
    "    sourceTable\n",
    "    sourceColumn\n",
    "    targetOwner\n",
    "    targetTable\n",
    "    targetColumn\n",
    "}}\n",
    "\n",
    "fragment entireInputColumn on InputColumn {{\n",
    "    id\n",
    "    owner\n",
    "    table\n",
    "    column\n",
    "    script\n",
    "    staticValue\n",
    "    joins {{\n",
    "        ...entireJoin\n",
    "    }}\n",
    "}}\n",
    "\n",
    "fragment a on Attribute {{\n",
    "    id\n",
    "    comment\n",
    "    name\n",
    "    mergingScript\n",
    "    isProfile\n",
    "    type\n",
    "    inputColumns {{\n",
    "        ...entireInputColumn\n",
    "    }}\n",
    "}}\n",
    "\n",
    "query {{\n",
    "    getResource (database: \"{0}\", resource: \"{1}\") {{\n",
    "        id\n",
    "        name\n",
    "        attributes {{\n",
    "            ...a\n",
    "            attributes {{\n",
    "                ...a\n",
    "                attributes {{\n",
    "                    ...a\n",
    "                    attributes {{\n",
    "                        ...a\n",
    "                        attributes {{\n",
    "                            ...a\n",
    "                            attributes {{\n",
    "                                ...a\n",
    "                                attributes {{\n",
    "                                    ...a\n",
    "                                    attributes {{\n",
    "                                        ...a\n",
    "                                        attributes {{\n",
    "                                            ...a\n",
    "                                            attributes {{\n",
    "                                                ...a\n",
    "                                                attributes {{\n",
    "                                                    ...a\n",
    "                                                    attributes {{\n",
    "                                                        ...a\n",
    "                                                        attributes {{\n",
    "                                                            ...a\n",
    "                                                            attributes {{\n",
    "                                                                ...a\n",
    "                                                                attributes {{\n",
    "                                                                    ...a\n",
    "                                                                }}\n",
    "                                                            }}\n",
    "                                                        }}\n",
    "                                                    }}\n",
    "                                                }}\n",
    "                                            }}\n",
    "                                        }}\n",
    "                                    }}\n",
    "                                }}\n",
    "                            }}\n",
    "                        }}\n",
    "                    }}\n",
    "                }}\n",
    "            }}\n",
    "        }}\n",
    "    }}\n",
    "}}\n",
    "\"\"\""
   ]
  },
  {
   "cell_type": "code",
   "execution_count": 19,
   "metadata": {},
   "outputs": [],
   "source": [
    "def get_fhir_resource(database, resource):\n",
    "    return run_query(endpoint, headers, query.format(database, resource))"
   ]
  },
  {
   "cell_type": "code",
   "execution_count": 20,
   "metadata": {},
   "outputs": [
    {
     "name": "stdout",
     "output_type": "stream",
     "text": [
      "{'data': {'getResource': {'id': 'cjpicvbkxusn60a57glvgvc90', 'name': 'Patient', 'attributes': [{'id': 'cjpicvbl2usn70a57x5juy08k', 'comment': 'An identifier for this patient', 'name': 'identifier', 'mergingScript': None, 'isProfile': None, 'type': 'list::Identifier', 'inputColumns': [], 'attributes': [{'id': 'cjpicvbl5usn90a57dhmj6m07', 'comment': None, 'name': 'Identifier_0', 'mergingScript': None, 'isProfile': True, 'type': 'Identifier', 'inputColumns': [], 'attributes': [{'id': 'cjpicvbl9usnb0a5759d0bixj', 'comment': 'usual | official | temp | secondary (If known)', 'name': 'use', 'mergingScript': None, 'isProfile': None, 'type': 'code', 'inputColumns': [], 'attributes': []}, {'id': 'cjpicvbldusnd0a57nwyk4xet', 'comment': 'Description of identifier', 'name': 'type', 'mergingScript': None, 'isProfile': None, 'type': 'CodeableConcept', 'inputColumns': [], 'attributes': [{'id': 'cjpicvblgusnf0a57ktei4ozm', 'comment': 'Code defined by a terminology system', 'name': 'coding', 'mergingScript': None, 'isProfile': None, 'type': 'list::Coding', 'inputColumns': [], 'attributes': [{'id': 'cjpicvbljusnh0a579dg1qk5b', 'comment': None, 'name': 'Coding_0', 'mergingScript': None, 'isProfile': True, 'type': 'Coding', 'inputColumns': [], 'attributes': [{'id': 'cjpicvblmusnj0a570xwhcbz3', 'comment': 'Identity of the terminology system', 'name': 'system', 'mergingScript': None, 'isProfile': None, 'type': 'uri', 'inputColumns': [], 'attributes': []}, {'id': 'cjpicvblpusnl0a57t1w1c2so', 'comment': 'Version of the system - if relevant', 'name': 'version', 'mergingScript': None, 'isProfile': None, 'type': 'string', 'inputColumns': [], 'attributes': []}, {'id': 'cjpicvblsusnn0a57wsbc17l0', 'comment': 'Symbol in syntax defined by the system', 'name': 'code', 'mergingScript': None, 'isProfile': None, 'type': 'code', 'inputColumns': [{'id': 'cjpil2gatwmha0a57znz133ax', 'owner': None, 'table': None, 'column': None, 'script': None, 'staticValue': 'CrossWay', 'joins': []}], 'attributes': []}, {'id': 'cjpicvblvusnp0a57syy4g35j', 'comment': 'Representation defined by the system', 'name': 'display', 'mergingScript': None, 'isProfile': None, 'type': 'string', 'inputColumns': [{'id': 'cjpil2knuwmiy0a57fgvhflrb', 'owner': None, 'table': None, 'column': None, 'script': None, 'staticValue': 'CrossWay', 'joins': []}], 'attributes': []}, {'id': 'cjpicvblyusnr0a57kd0opxv7', 'comment': 'If this coding was chosen directly by the user', 'name': 'userSelected', 'mergingScript': None, 'isProfile': None, 'type': 'boolean', 'inputColumns': [], 'attributes': []}]}]}, {'id': 'cjpicvbm1usnt0a57r3c4kwqo', 'comment': 'Plain text representation of the concept', 'name': 'text', 'mergingScript': None, 'isProfile': None, 'type': 'string', 'inputColumns': [], 'attributes': []}]}, {'id': 'cjpicvbm5usnv0a57zeip9flu', 'comment': 'The namespace for the identifier value', 'name': 'system', 'mergingScript': None, 'isProfile': None, 'type': 'uri', 'inputColumns': [], 'attributes': []}, {'id': 'cjpicvbm7usnx0a57f0zp7f4b', 'comment': 'The value that is unique', 'name': 'value', 'mergingScript': None, 'isProfile': None, 'type': 'string', 'inputColumns': [{'id': 'cjpil1tdao3lz0a61s50cn8ss', 'owner': 'ICSF', 'table': 'PATIENT', 'column': 'NOPAT', 'script': None, 'staticValue': None, 'joins': []}], 'attributes': []}, {'id': 'cjpicvbmausnz0a57om00ad5q', 'comment': 'Time period when id is/was valid for use', 'name': 'period', 'mergingScript': None, 'isProfile': None, 'type': 'Period', 'inputColumns': [], 'attributes': [{'id': 'cjpicvbmeuso10a57j4yeg0c8', 'comment': 'C? Starting time with inclusive boundary', 'name': 'start', 'mergingScript': None, 'isProfile': None, 'type': 'dateTime', 'inputColumns': [], 'attributes': []}, {'id': 'cjpicvbmguso30a57ml09d42m', 'comment': 'C? End time with inclusive boundary if not ongoing', 'name': 'end', 'mergingScript': None, 'isProfile': None, 'type': 'dateTime', 'inputColumns': [], 'attributes': []}]}, {'id': 'cjpicvbmjuso50a57gvtfblt4', 'comment': 'Organization that issued id (may be just text)', 'name': 'assigner', 'mergingScript': None, 'isProfile': None, 'type': 'Reference(Organization)', 'inputColumns': [], 'attributes': []}]}]}, {'id': 'cjpicvbmmuso70a57cs3gclss', 'comment': \"Whether this patient's record is in active use\", 'name': 'active', 'mergingScript': None, 'isProfile': None, 'type': 'boolean', 'inputColumns': [], 'attributes': []}, {'id': 'cjpicvbmouso90a57p8irnpx6', 'comment': 'A name associated with the patient', 'name': 'name', 'mergingScript': None, 'isProfile': None, 'type': 'list::HumanName', 'inputColumns': [], 'attributes': [{'id': 'cjpicvbmrusob0a57ru95njt5', 'comment': None, 'name': 'HumanName_0', 'mergingScript': None, 'isProfile': True, 'type': 'HumanName', 'inputColumns': [], 'attributes': [{'id': 'cjpicvbmuusod0a572zcixgqn', 'comment': 'usual | official | temp | nickname | anonymous | old | maiden', 'name': 'use', 'mergingScript': None, 'isProfile': None, 'type': 'code', 'inputColumns': [], 'attributes': []}, {'id': 'cjpicvbmwusof0a579kw9chf6', 'comment': 'Text representation of the full name', 'name': 'text', 'mergingScript': None, 'isProfile': None, 'type': 'string', 'inputColumns': [], 'attributes': []}, {'id': 'cjpicvbmyusoh0a579qvwoi1p', 'comment': \"Family name (often called 'Surname')\", 'name': 'family', 'mergingScript': None, 'isProfile': None, 'type': 'string', 'inputColumns': [{'id': 'cjpikp174o1ia0a61owy0aumv', 'owner': 'ICSF', 'table': 'PATIENT', 'column': 'NOMPAT', 'script': None, 'staticValue': None, 'joins': []}], 'attributes': []}, {'id': 'cjpicvbn1usoj0a57209fc3np', 'comment': \"Given names (not always 'first'). Includes middle names\", 'name': 'given', 'mergingScript': None, 'isProfile': None, 'type': 'list::string', 'inputColumns': [{'id': 'cjpikpcxeo1k70a61o2qeklnj', 'owner': 'ICSF', 'table': 'PATIENT', 'column': 'PREPAT', 'script': None, 'staticValue': None, 'joins': []}, {'id': 'cjpikpfl6wji10a57cyj19385', 'owner': 'ICSF', 'table': 'PATIENT', 'column': 'PREPATSUITE', 'script': None, 'staticValue': None, 'joins': []}], 'attributes': []}, {'id': 'cjpicvbn5usol0a57tkt3bv38', 'comment': 'Parts that come before the name', 'name': 'prefix', 'mergingScript': None, 'isProfile': None, 'type': 'list::string', 'inputColumns': [], 'attributes': []}, {'id': 'cjpicvbn8uson0a57zo0u2bg7', 'comment': 'Parts that come after the name', 'name': 'suffix', 'mergingScript': None, 'isProfile': None, 'type': 'list::string', 'inputColumns': [], 'attributes': []}, {'id': 'cjpicvbncusop0a57rw95fmb9', 'comment': 'Time period when name was/is in use', 'name': 'period', 'mergingScript': None, 'isProfile': None, 'type': 'Period', 'inputColumns': [], 'attributes': [{'id': 'cjpicvbnfusor0a576nwkfihc', 'comment': 'C? Starting time with inclusive boundary', 'name': 'start', 'mergingScript': None, 'isProfile': None, 'type': 'dateTime', 'inputColumns': [], 'attributes': []}, {'id': 'cjpicvbniusot0a57rnnfrbek', 'comment': 'C? End time with inclusive boundary if not ongoing', 'name': 'end', 'mergingScript': None, 'isProfile': None, 'type': 'dateTime', 'inputColumns': [], 'attributes': []}]}]}]}, {'id': 'cjpicvbnkusov0a576o55wf0j', 'comment': 'A contact detail for the individual', 'name': 'telecom', 'mergingScript': None, 'isProfile': None, 'type': 'list::ContactPoint', 'inputColumns': [], 'attributes': [{'id': 'cjpicvbnnusox0a57zjrhq5yx', 'comment': None, 'name': 'ContactPoint_0', 'mergingScript': None, 'isProfile': True, 'type': 'ContactPoint', 'inputColumns': [], 'attributes': [{'id': 'cjpicvbnpusoz0a57l9lb02zg', 'comment': 'C? phone | fax | email | pager | url | sms | other', 'name': 'system', 'mergingScript': None, 'isProfile': None, 'type': 'code=phone|fax|email|pager|url|sms', 'inputColumns': [{'id': 'cjpil3jfcwmrk0a57xf736zij', 'owner': None, 'table': None, 'column': None, 'script': None, 'staticValue': 'Phone', 'joins': []}], 'attributes': []}, {'id': 'cjpicvbnsusp10a57i1st2x4l', 'comment': 'The actual contact point details', 'name': 'value', 'mergingScript': None, 'isProfile': None, 'type': 'string', 'inputColumns': [{'id': 'cjpil46djo44d0a61b6dmkyjx', 'owner': 'ICSF', 'table': 'PATCOMP', 'column': 'TELPORT', 'script': None, 'staticValue': None, 'joins': [{'id': 'cjpil47r8wmze0a57ukoegpgb', 'sourceOwner': 'ICSF', 'sourceTable': 'PATIENT', 'sourceColumn': 'NOPAT', 'targetOwner': 'ICSF', 'targetTable': 'PATCOMP', 'targetColumn': 'NOPAT'}]}], 'attributes': []}, {'id': 'cjpicvbnwusp30a57axa3oeom', 'comment': 'home | work | temp | old | mobile - purpose of this contact point', 'name': 'use', 'mergingScript': None, 'isProfile': None, 'type': 'code', 'inputColumns': [{'id': 'cjpil5jlkwnf80a57ognyplis', 'owner': None, 'table': None, 'column': None, 'script': None, 'staticValue': 'mobile', 'joins': []}], 'attributes': []}, {'id': 'cjpicvbnyusp50a57s6duued2', 'comment': 'Specify preferred order of use (1 = highest)', 'name': 'rank', 'mergingScript': None, 'isProfile': None, 'type': 'positiveInt', 'inputColumns': [], 'attributes': []}, {'id': 'cjpicvbo1usp70a57tz8u6nct', 'comment': 'Time period when the contact point was/is in use', 'name': 'period', 'mergingScript': None, 'isProfile': None, 'type': 'Period', 'inputColumns': [], 'attributes': [{'id': 'cjpicvbo4usp90a57gr78wlxp', 'comment': 'C? Starting time with inclusive boundary', 'name': 'start', 'mergingScript': None, 'isProfile': None, 'type': 'dateTime', 'inputColumns': [], 'attributes': []}, {'id': 'cjpicvbo7uspb0a57bwg6ie01', 'comment': 'C? End time with inclusive boundary if not ongoing', 'name': 'end', 'mergingScript': None, 'isProfile': None, 'type': 'dateTime', 'inputColumns': [], 'attributes': []}]}]}]}, {'id': 'cjpicvbo9uspd0a57n14ntf5y', 'comment': 'male | female | other | unknown', 'name': 'gender', 'mergingScript': None, 'isProfile': None, 'type': 'code', 'inputColumns': [{'id': 'cjpikq0t0o1ot0a61lv9q4xgr', 'owner': 'ICSF', 'table': 'PATIENT', 'column': 'SEXE', 'script': None, 'staticValue': None, 'joins': []}], 'attributes': []}, {'id': 'cjpicvboduspf0a57a7l3iepk', 'comment': 'The date of birth for the individual', 'name': 'birthDate', 'mergingScript': None, 'isProfile': None, 'type': 'date', 'inputColumns': [{'id': 'cjpikq6bwo1qq0a61d22jxt78', 'owner': 'ICSF', 'table': 'PATIENT', 'column': 'DTNAIS', 'script': None, 'staticValue': None, 'joins': []}], 'attributes': []}, {'id': 'cjpicvbofusph0a578gopmqw4', 'comment': '', 'name': 'deceasedBoolean', 'mergingScript': None, 'isProfile': None, 'type': 'boolean', 'inputColumns': [{'id': 'cjpikqnegwjv00a57la5lv3o4', 'owner': 'ICSF', 'table': 'PATIENT', 'column': 'DECEDE', 'script': None, 'staticValue': None, 'joins': []}], 'attributes': []}, {'id': 'cjpicvboiuspj0a571cln7wua', 'comment': '', 'name': 'deceasedDateTime', 'mergingScript': None, 'isProfile': None, 'type': 'dateTime', 'inputColumns': [{'id': 'cjpikqrerwjwq0a57jyj29nxj', 'owner': 'ICSF', 'table': 'PATIENT', 'column': 'DTDECES', 'script': None, 'staticValue': None, 'joins': []}], 'attributes': []}, {'id': 'cjpicvbokuspl0a57aikmv6fz', 'comment': 'Addresses for the individual', 'name': 'address', 'mergingScript': None, 'isProfile': None, 'type': 'list::Address', 'inputColumns': [], 'attributes': [{'id': 'cjpicvbonuspn0a57kuqd1kck', 'comment': None, 'name': 'Address_0', 'mergingScript': None, 'isProfile': True, 'type': 'Address', 'inputColumns': [], 'attributes': [{'id': 'cjpicvboquspp0a576a5mx1eo', 'comment': 'home | work | temp | old - purpose of this address', 'name': 'use', 'mergingScript': None, 'isProfile': None, 'type': 'code', 'inputColumns': [], 'attributes': []}, {'id': 'cjpicvbouuspr0a5794vlsskt', 'comment': 'postal | physical | both', 'name': 'type', 'mergingScript': None, 'isProfile': None, 'type': 'code', 'inputColumns': [], 'attributes': []}, {'id': 'cjpicvbowuspt0a570rorisiw', 'comment': 'Text representation of the address', 'name': 'text', 'mergingScript': None, 'isProfile': None, 'type': 'string', 'inputColumns': [], 'attributes': []}, {'id': 'cjpicvbozuspv0a57c846ssu5', 'comment': 'Street name, number, direction & P.O. Box etc.', 'name': 'line', 'mergingScript': None, 'isProfile': None, 'type': 'list::string', 'inputColumns': [{'id': 'cjpikvlqbo2y40a61n2paf9eh', 'owner': 'ICSF', 'table': 'PATADR', 'column': 'ADR1', 'script': None, 'staticValue': None, 'joins': [{'id': 'cjpikvsedwlap0a57gxlzmvsg', 'sourceOwner': 'ICSF', 'sourceTable': 'PATIENT', 'sourceColumn': 'NOPAT', 'targetOwner': 'ICSF', 'targetTable': 'PATADR', 'targetColumn': 'NOPAT'}]}, {'id': 'cjpikvniho2yf0a615t2641g7', 'owner': 'ICSF', 'table': 'PATADR', 'column': 'ADR2', 'script': None, 'staticValue': None, 'joins': [{'id': 'cjpikw7ziwldc0a57mwseest5', 'sourceOwner': 'ICSF', 'sourceTable': 'PATIENT', 'sourceColumn': 'NOPAT', 'targetOwner': 'ICSF', 'targetTable': 'PATADR', 'targetColumn': 'NOPAT'}]}, {'id': 'cjpikvph1o2z00a61c5bfkasm', 'owner': 'ICSF', 'table': 'PATADR', 'column': 'ADR3', 'script': None, 'staticValue': None, 'joins': [{'id': 'cjpikwmlko32f0a61ayzglp8d', 'sourceOwner': 'ICSF', 'sourceTable': 'PATIENT', 'sourceColumn': 'NOPAT', 'targetOwner': 'ICSF', 'targetTable': 'PATADR', 'targetColumn': 'NOPAT'}]}, {'id': 'cjpikvrhzo2zc0a61yvm2nlw2', 'owner': 'ICSF', 'table': 'PATADR', 'column': 'ADR4', 'script': None, 'staticValue': None, 'joins': [{'id': 'cjpikwnbdwlfn0a57akthep7j', 'sourceOwner': 'ICSF', 'sourceTable': 'PATIENT', 'sourceColumn': 'NOPAT', 'targetOwner': 'ICSF', 'targetTable': 'PATADR', 'targetColumn': 'NOPAT'}]}], 'attributes': []}, {'id': 'cjpicvbp2uspx0a57zo2h2s0p', 'comment': 'Name of city, town etc.', 'name': 'city', 'mergingScript': None, 'isProfile': None, 'type': 'string', 'inputColumns': [{'id': 'cjpikrorio24q0a61n8an2gqd', 'owner': 'ICSF', 'table': 'PATADR', 'column': 'VILLE', 'script': None, 'staticValue': None, 'joins': [{'id': 'cjpiks8biwkds0a57lxm1bj50', 'sourceOwner': 'ICSF', 'sourceTable': 'PATIENT', 'sourceColumn': 'NOPAT', 'targetOwner': 'ICSF', 'targetTable': 'PATADR', 'targetColumn': 'NOPAT'}]}], 'attributes': []}, {'id': 'cjpicvbp5uspz0a57ns6gfr29', 'comment': 'District name (aka county)', 'name': 'district', 'mergingScript': None, 'isProfile': None, 'type': 'string', 'inputColumns': [], 'attributes': []}, {'id': 'cjpicvbp8usq10a573fzpx7oc', 'comment': 'Sub-unit of country (abbreviations ok)', 'name': 'state', 'mergingScript': None, 'isProfile': None, 'type': 'string', 'inputColumns': [], 'attributes': []}, {'id': 'cjpicvbpbusq30a57nppbzkvv', 'comment': 'Postal code for area', 'name': 'postalCode', 'mergingScript': None, 'isProfile': None, 'type': 'string', 'inputColumns': [{'id': 'cjpikrxbjwkag0a576lx9uqlw', 'owner': 'ICSF', 'table': 'PATADR', 'column': 'CP', 'script': None, 'staticValue': None, 'joins': [{'id': 'cjpiksyh7o2g20a61uds766c6', 'sourceOwner': 'ICSF', 'sourceTable': 'PATIENT', 'sourceColumn': 'NOPAT', 'targetOwner': 'ICSF', 'targetTable': 'PATADR', 'targetColumn': 'NOPAT'}]}], 'attributes': []}, {'id': 'cjpicvbpeusq50a57ok8qwez4', 'comment': 'Country (e.g. can be ISO 3166 2 or 3 letter code)', 'name': 'country', 'mergingScript': None, 'isProfile': None, 'type': 'string', 'inputColumns': [{'id': 'cjpiktq20wku60a57uvvol326', 'owner': 'ICSF', 'table': 'PAYS', 'column': 'LIBELLE', 'script': None, 'staticValue': None, 'joins': [{'id': 'cjpiktr9to2n40a616g7eyqun', 'sourceOwner': 'ICSF', 'sourceTable': 'PATIENT', 'sourceColumn': 'NOPAT', 'targetOwner': 'ICSF', 'targetTable': 'PATADR', 'targetColumn': 'NOPAT'}, {'id': 'cjpikuj95wl1a0a573cy7eh7o', 'sourceOwner': 'ICSF', 'sourceTable': 'PATADR', 'sourceColumn': 'NOPAYS', 'targetOwner': 'ICSF', 'targetTable': 'PAYS', 'targetColumn': 'NOPAYS'}]}], 'attributes': []}, {'id': 'cjpicvbpgusq70a57lq1skvev', 'comment': 'Time period when address was/is in use', 'name': 'period', 'mergingScript': None, 'isProfile': None, 'type': 'Period', 'inputColumns': [], 'attributes': [{'id': 'cjpicvbpjusq90a57up09s7lp', 'comment': 'C? Starting time with inclusive boundary', 'name': 'start', 'mergingScript': None, 'isProfile': None, 'type': 'dateTime', 'inputColumns': [], 'attributes': []}, {'id': 'cjpicvbpmusqb0a57v4jbja1l', 'comment': 'C? End time with inclusive boundary if not ongoing', 'name': 'end', 'mergingScript': None, 'isProfile': None, 'type': 'dateTime', 'inputColumns': [], 'attributes': []}]}]}]}, {'id': 'cjpicvbppusqd0a57dpyxegn1', 'comment': 'Marital (civil) status of a patient', 'name': 'maritalStatus', 'mergingScript': None, 'isProfile': None, 'type': 'CodeableConcept', 'inputColumns': [], 'attributes': [{'id': 'cjpicvbprusqf0a57f8v7jwma', 'comment': 'Code defined by a terminology system', 'name': 'coding', 'mergingScript': None, 'isProfile': None, 'type': 'list::Coding', 'inputColumns': [], 'attributes': [{'id': 'cjpicvbptusqh0a57xd15jor6', 'comment': None, 'name': 'Coding_0', 'mergingScript': None, 'isProfile': True, 'type': 'Coding', 'inputColumns': [], 'attributes': [{'id': 'cjpicvbpxusqj0a571qkyf582', 'comment': 'Identity of the terminology system', 'name': 'system', 'mergingScript': None, 'isProfile': None, 'type': 'uri', 'inputColumns': [], 'attributes': []}, {'id': 'cjpicvbpzusql0a57l9g8zppa', 'comment': 'Version of the system - if relevant', 'name': 'version', 'mergingScript': None, 'isProfile': None, 'type': 'string', 'inputColumns': [], 'attributes': []}, {'id': 'cjpicvbq2usqn0a57t5ck8dyn', 'comment': 'Symbol in syntax defined by the system', 'name': 'code', 'mergingScript': None, 'isProfile': None, 'type': 'code', 'inputColumns': [{'id': 'cjpikydm4o3710a616amuq8tn', 'owner': 'ICSF', 'table': 'PATCOMP', 'column': 'SITUAFAM', 'script': None, 'staticValue': None, 'joins': [{'id': 'cjpikygyeo37f0a610l6m56bj', 'sourceOwner': 'ICSF', 'sourceTable': 'PATIENT', 'sourceColumn': 'NOPAT', 'targetOwner': 'ICSF', 'targetTable': 'PATCOMP', 'targetColumn': 'NOPAT'}]}], 'attributes': []}, {'id': 'cjpicvbq5usqp0a574d847bg0', 'comment': 'Representation defined by the system', 'name': 'display', 'mergingScript': None, 'isProfile': None, 'type': 'string', 'inputColumns': [{'id': 'cjpikz59ewlsb0a57ff17piuz', 'owner': 'ICSF', 'table': 'PATCOMP', 'column': 'SITUAFAM', 'script': None, 'staticValue': None, 'joins': [{'id': 'cjpikz69no3ag0a61hmpnkovv', 'sourceOwner': 'ICSF', 'sourceTable': 'PATIENT', 'sourceColumn': 'NOPAT', 'targetOwner': 'ICSF', 'targetTable': 'PATCOMP', 'targetColumn': 'NOPAT'}]}], 'attributes': []}, {'id': 'cjpicvbq7usqr0a57v1w4b309', 'comment': 'If this coding was chosen directly by the user', 'name': 'userSelected', 'mergingScript': None, 'isProfile': None, 'type': 'boolean', 'inputColumns': [], 'attributes': []}]}]}, {'id': 'cjpicvbqausqt0a57bej1kt7h', 'comment': 'Plain text representation of the concept', 'name': 'text', 'mergingScript': None, 'isProfile': None, 'type': 'string', 'inputColumns': [], 'attributes': []}]}, {'id': 'cjpicvbqeusqv0a57o3dm9l8m', 'comment': '', 'name': 'multipleBirthBoolean', 'mergingScript': None, 'isProfile': None, 'type': 'boolean', 'inputColumns': [], 'attributes': []}, {'id': 'cjpicvbqgusqx0a57fb06ais6', 'comment': '', 'name': 'multipleBirthInteger', 'mergingScript': None, 'isProfile': None, 'type': 'integer', 'inputColumns': [], 'attributes': []}, {'id': 'cjpicvbqjusqz0a57392yz9sh', 'comment': 'Image of the patient', 'name': 'photo', 'mergingScript': None, 'isProfile': None, 'type': 'list::Attachment', 'inputColumns': [], 'attributes': [{'id': 'cjpicvbqnusr10a57lequ34e2', 'comment': None, 'name': 'Attachment_0', 'mergingScript': None, 'isProfile': True, 'type': 'Attachment', 'inputColumns': [], 'attributes': [{'id': 'cjpicvbqqusr30a570o4icat2', 'comment': 'Mime type of the content, with charset etc.', 'name': 'contentType', 'mergingScript': None, 'isProfile': None, 'type': 'code', 'inputColumns': [], 'attributes': []}, {'id': 'cjpicvbqtusr50a57o8r4krf0', 'comment': 'Human language of the content (BCP-47)', 'name': 'language', 'mergingScript': None, 'isProfile': None, 'type': 'code', 'inputColumns': [], 'attributes': []}, {'id': 'cjpicvbqwusr70a57hd472lqc', 'comment': 'Data inline, base64ed', 'name': 'data', 'mergingScript': None, 'isProfile': None, 'type': 'base64Binary', 'inputColumns': [], 'attributes': []}, {'id': 'cjpicvbqzusr90a57wqphwybu', 'comment': 'Uri where the data can be found', 'name': 'url', 'mergingScript': None, 'isProfile': None, 'type': 'uri', 'inputColumns': [], 'attributes': []}, {'id': 'cjpicvbr1usrb0a57e5hx0ffq', 'comment': 'Number of bytes of content (if url provided)', 'name': 'size', 'mergingScript': None, 'isProfile': None, 'type': 'unsignedInt', 'inputColumns': [], 'attributes': []}, {'id': 'cjpicvbr4usrd0a57cpuew63e', 'comment': 'Hash of the data (sha-1, base64ed)', 'name': 'hash', 'mergingScript': None, 'isProfile': None, 'type': 'base64Binary', 'inputColumns': [], 'attributes': []}, {'id': 'cjpicvbr6usrf0a57d4erlyi7', 'comment': 'Label to display in place of the data', 'name': 'title', 'mergingScript': None, 'isProfile': None, 'type': 'string', 'inputColumns': [], 'attributes': []}, {'id': 'cjpicvbr9usrh0a570erht3em', 'comment': 'Date attachment was first created', 'name': 'creation', 'mergingScript': None, 'isProfile': None, 'type': 'dateTime', 'inputColumns': [], 'attributes': []}]}]}, {'id': 'cjpicvbrcusrj0a579yw8kfz8', 'comment': 'A contact party (e.g. guardian partner friend) for the patient', 'name': 'contact', 'mergingScript': None, 'isProfile': None, 'type': 'list', 'inputColumns': [], 'attributes': [{'id': 'cjpicvbrfusrl0a571xz3oi13', 'comment': 'The kind of relationship \"name\" : { HumanName }, // A name associated with the contact person', 'name': 'relationship', 'mergingScript': None, 'isProfile': None, 'type': 'list::CodeableConcept', 'inputColumns': [], 'attributes': [{'id': 'cjpicvbriusrn0a57ij8muavq', 'comment': None, 'name': 'CodeableConcept_0', 'mergingScript': None, 'isProfile': True, 'type': 'CodeableConcept', 'inputColumns': [], 'attributes': [{'id': 'cjpicvbrlusrp0a57miztnol5', 'comment': 'Code defined by a terminology system', 'name': 'coding', 'mergingScript': None, 'isProfile': None, 'type': 'list::Coding', 'inputColumns': [], 'attributes': [{'id': 'cjpicvbrpusrr0a571va0gmua', 'comment': None, 'name': 'Coding_0', 'mergingScript': None, 'isProfile': True, 'type': 'Coding', 'inputColumns': [], 'attributes': [{'id': 'cjpicvbrrusrt0a5727t7of34', 'comment': 'Identity of the terminology system', 'name': 'system', 'mergingScript': None, 'isProfile': None, 'type': 'uri', 'inputColumns': [], 'attributes': []}, {'id': 'cjpicvbruusrv0a57t5guvm3u', 'comment': 'Version of the system - if relevant', 'name': 'version', 'mergingScript': None, 'isProfile': None, 'type': 'string', 'inputColumns': [], 'attributes': []}, {'id': 'cjpicvbrxusrx0a57k2ipqeib', 'comment': 'Symbol in syntax defined by the system', 'name': 'code', 'mergingScript': None, 'isProfile': None, 'type': 'code', 'inputColumns': [], 'attributes': []}, {'id': 'cjpicvbrzusrz0a57ysjps7a8', 'comment': 'Representation defined by the system', 'name': 'display', 'mergingScript': None, 'isProfile': None, 'type': 'string', 'inputColumns': [], 'attributes': []}, {'id': 'cjpicvbs2uss10a57liyab3rt', 'comment': 'If this coding was chosen directly by the user', 'name': 'userSelected', 'mergingScript': None, 'isProfile': None, 'type': 'boolean', 'inputColumns': [], 'attributes': []}]}]}, {'id': 'cjpicvbs5uss30a5751l3mn3q', 'comment': 'Plain text representation of the concept', 'name': 'text', 'mergingScript': None, 'isProfile': None, 'type': 'string', 'inputColumns': [], 'attributes': []}]}]}, {'id': 'cjpicvbs8uss50a57ou3vu0dj', 'comment': 'A contact detail for the person', 'name': 'telecom', 'mergingScript': None, 'isProfile': None, 'type': 'list::ContactPoint', 'inputColumns': [], 'attributes': [{'id': 'cjpicvbsauss70a57mg8ra6it', 'comment': None, 'name': 'ContactPoint_0', 'mergingScript': None, 'isProfile': True, 'type': 'ContactPoint', 'inputColumns': [], 'attributes': [{'id': 'cjpicvbsduss90a577d72871m', 'comment': 'C? phone | fax | email | pager | url | sms | other', 'name': 'system', 'mergingScript': None, 'isProfile': None, 'type': 'code=phone|fax|email|pager|url|sms', 'inputColumns': [], 'attributes': []}, {'id': 'cjpicvbsgussb0a573h20jhhe', 'comment': 'The actual contact point details', 'name': 'value', 'mergingScript': None, 'isProfile': None, 'type': 'string', 'inputColumns': [], 'attributes': []}, {'id': 'cjpicvbsjussd0a57dm3xv6oh', 'comment': 'home | work | temp | old | mobile - purpose of this contact point', 'name': 'use', 'mergingScript': None, 'isProfile': None, 'type': 'code', 'inputColumns': [], 'attributes': []}, {'id': 'cjpicvbslussf0a57hljng6n1', 'comment': 'Specify preferred order of use (1 = highest)', 'name': 'rank', 'mergingScript': None, 'isProfile': None, 'type': 'positiveInt', 'inputColumns': [], 'attributes': []}, {'id': 'cjpicvbsoussh0a57rr4ok1xn', 'comment': 'Time period when the contact point was/is in use', 'name': 'period', 'mergingScript': None, 'isProfile': None, 'type': 'Period', 'inputColumns': [], 'attributes': [{'id': 'cjpicvbsrussj0a57x9zcn0d0', 'comment': 'C? Starting time with inclusive boundary', 'name': 'start', 'mergingScript': None, 'isProfile': None, 'type': 'dateTime', 'inputColumns': [], 'attributes': []}, {'id': 'cjpicvbsuussl0a57qjp0cpq0', 'comment': 'C? End time with inclusive boundary if not ongoing', 'name': 'end', 'mergingScript': None, 'isProfile': None, 'type': 'dateTime', 'inputColumns': [], 'attributes': []}]}]}]}, {'id': 'cjpicvbswussn0a57x0lh4zbl', 'comment': 'Address for the contact person', 'name': 'address', 'mergingScript': None, 'isProfile': None, 'type': 'Address', 'inputColumns': [], 'attributes': [{'id': 'cjpicvbsyussp0a57pg0sacz1', 'comment': 'home | work | temp | old - purpose of this address', 'name': 'use', 'mergingScript': None, 'isProfile': None, 'type': 'code', 'inputColumns': [], 'attributes': []}, {'id': 'cjpicvbt0ussr0a578y2rd301', 'comment': 'postal | physical | both', 'name': 'type', 'mergingScript': None, 'isProfile': None, 'type': 'code', 'inputColumns': [], 'attributes': []}, {'id': 'cjpicvbt3usst0a57bpesczy9', 'comment': 'Text representation of the address', 'name': 'text', 'mergingScript': None, 'isProfile': None, 'type': 'string', 'inputColumns': [], 'attributes': []}, {'id': 'cjpicvbt5ussv0a57774p8we7', 'comment': 'Street name, number, direction & P.O. Box etc.', 'name': 'line', 'mergingScript': None, 'isProfile': None, 'type': 'list::string', 'inputColumns': [], 'attributes': []}, {'id': 'cjpicvbt8ussx0a57rd1ad1fu', 'comment': 'Name of city, town etc.', 'name': 'city', 'mergingScript': None, 'isProfile': None, 'type': 'string', 'inputColumns': [], 'attributes': []}, {'id': 'cjpicvbtbussz0a572eyfpn98', 'comment': 'District name (aka county)', 'name': 'district', 'mergingScript': None, 'isProfile': None, 'type': 'string', 'inputColumns': [], 'attributes': []}, {'id': 'cjpicvbtdust10a57pv1hcw47', 'comment': 'Sub-unit of country (abbreviations ok)', 'name': 'state', 'mergingScript': None, 'isProfile': None, 'type': 'string', 'inputColumns': [], 'attributes': []}, {'id': 'cjpicvbtfust30a574qf1y26g', 'comment': 'Postal code for area', 'name': 'postalCode', 'mergingScript': None, 'isProfile': None, 'type': 'string', 'inputColumns': [], 'attributes': []}, {'id': 'cjpicvbthust50a57z7qxxif4', 'comment': 'Country (e.g. can be ISO 3166 2 or 3 letter code)', 'name': 'country', 'mergingScript': None, 'isProfile': None, 'type': 'string', 'inputColumns': [], 'attributes': []}, {'id': 'cjpicvbtkust70a57ijqj6ltz', 'comment': 'Time period when address was/is in use', 'name': 'period', 'mergingScript': None, 'isProfile': None, 'type': 'Period', 'inputColumns': [], 'attributes': [{'id': 'cjpicvbtnust90a57hgsfhv8a', 'comment': 'C? Starting time with inclusive boundary', 'name': 'start', 'mergingScript': None, 'isProfile': None, 'type': 'dateTime', 'inputColumns': [], 'attributes': []}, {'id': 'cjpicvbtpustb0a57leiuyfnr', 'comment': 'C? End time with inclusive boundary if not ongoing', 'name': 'end', 'mergingScript': None, 'isProfile': None, 'type': 'dateTime', 'inputColumns': [], 'attributes': []}]}]}, {'id': 'cjpicvbtsustd0a57bbzga9o5', 'comment': 'male | female | other | unknown', 'name': 'gender', 'mergingScript': None, 'isProfile': None, 'type': 'code', 'inputColumns': [], 'attributes': []}, {'id': 'cjpicvbtuustf0a57wby30kd0', 'comment': 'C? Organization that is associated with the contact', 'name': 'organization', 'mergingScript': None, 'isProfile': None, 'type': 'Reference(Organization)', 'inputColumns': [], 'attributes': []}, {'id': 'cjpicvbtxusth0a571trmticc', 'comment': 'The period during which this contact person or organization is valid to be contacted relating to this patient', 'name': 'period', 'mergingScript': None, 'isProfile': None, 'type': 'Period', 'inputColumns': [], 'attributes': [{'id': 'cjpicvbu0ustj0a57nyvddqgl', 'comment': 'C? Starting time with inclusive boundary', 'name': 'start', 'mergingScript': None, 'isProfile': None, 'type': 'dateTime', 'inputColumns': [], 'attributes': []}, {'id': 'cjpicvbu3ustl0a57doyyysb3', 'comment': 'C? End time with inclusive boundary if not ongoing', 'name': 'end', 'mergingScript': None, 'isProfile': None, 'type': 'dateTime', 'inputColumns': [], 'attributes': []}]}]}, {'id': 'cjpicvbu5ustn0a57hrr48da6', 'comment': None, 'name': 'animal', 'mergingScript': None, 'isProfile': None, 'type': 'animal', 'inputColumns': [], 'attributes': [{'id': 'cjpicvbu8ustp0a57yhstwc4r', 'comment': 'R!  E.g. Dog, Cow', 'name': 'species', 'mergingScript': None, 'isProfile': None, 'type': 'CodeableConcept', 'inputColumns': [], 'attributes': [{'id': 'cjpicvbubustr0a57qo4ol4n0', 'comment': 'Code defined by a terminology system', 'name': 'coding', 'mergingScript': None, 'isProfile': None, 'type': 'list::Coding', 'inputColumns': [], 'attributes': [{'id': 'cjpicvbudustt0a57u5s8jraq', 'comment': None, 'name': 'Coding_0', 'mergingScript': None, 'isProfile': True, 'type': 'Coding', 'inputColumns': [], 'attributes': [{'id': 'cjpicvbugustv0a57mhhxzhjo', 'comment': 'Identity of the terminology system', 'name': 'system', 'mergingScript': None, 'isProfile': None, 'type': 'uri', 'inputColumns': [], 'attributes': []}, {'id': 'cjpicvbuiustx0a570ujedyay', 'comment': 'Version of the system - if relevant', 'name': 'version', 'mergingScript': None, 'isProfile': None, 'type': 'string', 'inputColumns': [], 'attributes': []}, {'id': 'cjpicvbukustz0a576fejmsac', 'comment': 'Symbol in syntax defined by the system', 'name': 'code', 'mergingScript': None, 'isProfile': None, 'type': 'code', 'inputColumns': [], 'attributes': []}, {'id': 'cjpicvbunusu10a57xx4rlnrh', 'comment': 'Representation defined by the system', 'name': 'display', 'mergingScript': None, 'isProfile': None, 'type': 'string', 'inputColumns': [], 'attributes': []}, {'id': 'cjpicvbupusu30a57i0jup84a', 'comment': 'If this coding was chosen directly by the user', 'name': 'userSelected', 'mergingScript': None, 'isProfile': None, 'type': 'boolean', 'inputColumns': [], 'attributes': []}]}]}, {'id': 'cjpicvburusu50a57vvw20it0', 'comment': 'Plain text representation of the concept', 'name': 'text', 'mergingScript': None, 'isProfile': None, 'type': 'string', 'inputColumns': [], 'attributes': []}]}, {'id': 'cjpicvbuuusu70a57yqqqr8ya', 'comment': 'E.g. Poodle, Angus', 'name': 'breed', 'mergingScript': None, 'isProfile': None, 'type': 'CodeableConcept', 'inputColumns': [], 'attributes': [{'id': 'cjpicvbuwusu90a57q4flbn3u', 'comment': 'Code defined by a terminology system', 'name': 'coding', 'mergingScript': None, 'isProfile': None, 'type': 'list::Coding', 'inputColumns': [], 'attributes': [{'id': 'cjpicvbuyusub0a57btgvirb2', 'comment': None, 'name': 'Coding_0', 'mergingScript': None, 'isProfile': True, 'type': 'Coding', 'inputColumns': [], 'attributes': [{'id': 'cjpicvbv1usud0a57g7rfhkun', 'comment': 'Identity of the terminology system', 'name': 'system', 'mergingScript': None, 'isProfile': None, 'type': 'uri', 'inputColumns': [], 'attributes': []}, {'id': 'cjpicvbv3usuf0a57waydemv1', 'comment': 'Version of the system - if relevant', 'name': 'version', 'mergingScript': None, 'isProfile': None, 'type': 'string', 'inputColumns': [], 'attributes': []}, {'id': 'cjpicvbv5usuh0a57bq7scqxu', 'comment': 'Symbol in syntax defined by the system', 'name': 'code', 'mergingScript': None, 'isProfile': None, 'type': 'code', 'inputColumns': [], 'attributes': []}, {'id': 'cjpicvbv8usuj0a576zh0jzwa', 'comment': 'Representation defined by the system', 'name': 'display', 'mergingScript': None, 'isProfile': None, 'type': 'string', 'inputColumns': [], 'attributes': []}, {'id': 'cjpicvbvbusul0a57q93tu5re', 'comment': 'If this coding was chosen directly by the user', 'name': 'userSelected', 'mergingScript': None, 'isProfile': None, 'type': 'boolean', 'inputColumns': [], 'attributes': []}]}]}, {'id': 'cjpicvbvdusun0a57saqsbnyu', 'comment': 'Plain text representation of the concept', 'name': 'text', 'mergingScript': None, 'isProfile': None, 'type': 'string', 'inputColumns': [], 'attributes': []}]}, {'id': 'cjpicvbvfusup0a57yjtt9gtu', 'comment': 'E.g. Neutered Intact', 'name': 'genderStatus', 'mergingScript': None, 'isProfile': None, 'type': 'CodeableConcept', 'inputColumns': [], 'attributes': [{'id': 'cjpicvbviusur0a577n8ffa3e', 'comment': 'Code defined by a terminology system', 'name': 'coding', 'mergingScript': None, 'isProfile': None, 'type': 'list::Coding', 'inputColumns': [], 'attributes': [{'id': 'cjpicvbvkusut0a57kmako9m1', 'comment': None, 'name': 'Coding_0', 'mergingScript': None, 'isProfile': True, 'type': 'Coding', 'inputColumns': [], 'attributes': [{'id': 'cjpicvbvnusuv0a576f5g6iss', 'comment': 'Identity of the terminology system', 'name': 'system', 'mergingScript': None, 'isProfile': None, 'type': 'uri', 'inputColumns': [], 'attributes': []}, {'id': 'cjpicvbvpusux0a571igg7luo', 'comment': 'Version of the system - if relevant', 'name': 'version', 'mergingScript': None, 'isProfile': None, 'type': 'string', 'inputColumns': [], 'attributes': []}, {'id': 'cjpicvbvsusuz0a57g2z4lwaj', 'comment': 'Symbol in syntax defined by the system', 'name': 'code', 'mergingScript': None, 'isProfile': None, 'type': 'code', 'inputColumns': [], 'attributes': []}, {'id': 'cjpicvbvuusv10a57sqsdvnp6', 'comment': 'Representation defined by the system', 'name': 'display', 'mergingScript': None, 'isProfile': None, 'type': 'string', 'inputColumns': [], 'attributes': []}, {'id': 'cjpicvbvwusv30a573lb69j4n', 'comment': 'If this coding was chosen directly by the user', 'name': 'userSelected', 'mergingScript': None, 'isProfile': None, 'type': 'boolean', 'inputColumns': [], 'attributes': []}]}]}, {'id': 'cjpicvbw0usv50a57y3grahyt', 'comment': 'Plain text representation of the concept', 'name': 'text', 'mergingScript': None, 'isProfile': None, 'type': 'string', 'inputColumns': [], 'attributes': []}]}]}, {'id': 'cjpicvbw2usv70a573jvw3fn1', 'comment': 'A list of Languages which may be used to communicate with the patient about his or her health', 'name': 'communication', 'mergingScript': None, 'isProfile': None, 'type': 'list', 'inputColumns': [], 'attributes': [{'id': 'cjpicvbw4usv90a577o4z7ytf', 'comment': 'R!  The language which can be used to communicate with the patient about his or her health', 'name': 'language', 'mergingScript': None, 'isProfile': None, 'type': 'CodeableConcept', 'inputColumns': [], 'attributes': [{'id': 'cjpicvbw7usvb0a57bdinpogb', 'comment': 'Code defined by a terminology system', 'name': 'coding', 'mergingScript': None, 'isProfile': None, 'type': 'list::Coding', 'inputColumns': [], 'attributes': [{'id': 'cjpicvbw9usvd0a57x01f1j74', 'comment': None, 'name': 'Coding_0', 'mergingScript': None, 'isProfile': True, 'type': 'Coding', 'inputColumns': [], 'attributes': [{'id': 'cjpicvbwcusvf0a57gsu9tyfc', 'comment': 'Identity of the terminology system', 'name': 'system', 'mergingScript': None, 'isProfile': None, 'type': 'uri', 'inputColumns': [], 'attributes': []}, {'id': 'cjpicvbwfusvh0a5712a5e5c9', 'comment': 'Version of the system - if relevant', 'name': 'version', 'mergingScript': None, 'isProfile': None, 'type': 'string', 'inputColumns': [], 'attributes': []}, {'id': 'cjpicvbwiusvj0a57m3m4sya6', 'comment': 'Symbol in syntax defined by the system', 'name': 'code', 'mergingScript': None, 'isProfile': None, 'type': 'code', 'inputColumns': [], 'attributes': []}, {'id': 'cjpicvbwkusvl0a57m058n0mh', 'comment': 'Representation defined by the system', 'name': 'display', 'mergingScript': None, 'isProfile': None, 'type': 'string', 'inputColumns': [], 'attributes': []}, {'id': 'cjpicvbwnusvn0a576afwh0a8', 'comment': 'If this coding was chosen directly by the user', 'name': 'userSelected', 'mergingScript': None, 'isProfile': None, 'type': 'boolean', 'inputColumns': [], 'attributes': []}]}]}, {'id': 'cjpicvbwpusvp0a576f5pz94q', 'comment': 'Plain text representation of the concept', 'name': 'text', 'mergingScript': None, 'isProfile': None, 'type': 'string', 'inputColumns': [], 'attributes': []}]}, {'id': 'cjpicvbwsusvr0a57loodsi8t', 'comment': 'Language preference indicator', 'name': 'preferred', 'mergingScript': None, 'isProfile': None, 'type': 'boolean', 'inputColumns': [], 'attributes': []}]}, {'id': 'cjpicvbwvusvt0a57t0sx9d6x', 'comment': \"Patient's nominated primary care provider\", 'name': 'generalPractitioner', 'mergingScript': None, 'isProfile': None, 'type': 'list::Reference(Organization|Practitioner)', 'inputColumns': [{'id': 'cjpilaj7rwoc80a57tadarpmb', 'owner': 'ICSF', 'table': 'PATMED', 'column': 'NOMED', 'script': None, 'staticValue': None, 'joins': [{'id': 'cjpilakjlwock0a57s9okpo4r', 'sourceOwner': 'ICSF', 'sourceTable': 'PATIENT', 'sourceColumn': 'NOPAT', 'targetOwner': 'ICSF', 'targetTable': 'PATMED', 'targetColumn': 'NOPAT'}]}], 'attributes': []}, {'id': 'cjpicvbwyusvv0a5764daxg6z', 'comment': 'Organization that is the custodian of the patient record', 'name': 'managingOrganization', 'mergingScript': None, 'isProfile': None, 'type': 'Reference(Organization)', 'inputColumns': [], 'attributes': []}, {'id': 'cjpicvbx0usvx0a570hn0uj8z', 'comment': 'Link to another patient resource that concerns the same actual person', 'name': 'link', 'mergingScript': None, 'isProfile': None, 'type': 'list', 'inputColumns': [], 'attributes': [{'id': 'cjpicvbx2usvz0a57j60zso06', 'comment': 'R!  The other patient or related person resource that the link refers to', 'name': 'other', 'mergingScript': None, 'isProfile': None, 'type': 'Reference(Patient|RelatedPerson)', 'inputColumns': [], 'attributes': []}, {'id': 'cjpicvbx5usw10a57qdo74mbz', 'comment': 'R!  replaced-by | replaces | refer | seealso - type of link', 'name': 'type', 'mergingScript': None, 'isProfile': None, 'type': 'code=replaced-by|replaces|refer|seealso', 'inputColumns': [], 'attributes': []}]}]}}}\n"
     ]
    }
   ],
   "source": [
    "print(run_query(endpoint, headers, query.format('Crossway', 'Patient')))"
   ]
  },
  {
   "cell_type": "code",
   "execution_count": null,
   "metadata": {},
   "outputs": [],
   "source": []
  }
 ],
 "metadata": {
  "kernelspec": {
   "display_name": "Python 3",
   "language": "python",
   "name": "python3"
  },
  "language_info": {
   "codemirror_mode": {
    "name": "ipython",
    "version": 3
   },
   "file_extension": ".py",
   "mimetype": "text/x-python",
   "name": "python",
   "nbconvert_exporter": "python",
   "pygments_lexer": "ipython3",
   "version": "3.6.4"
  }
 },
 "nbformat": 4,
 "nbformat_minor": 1
}
