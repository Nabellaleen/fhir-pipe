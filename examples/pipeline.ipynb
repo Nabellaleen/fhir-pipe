{
 "cells": [
  {
   "cell_type": "markdown",
   "metadata": {},
   "source": [
    "# Using fhir-pipe\n",
    "\n",
    "Here is a demo of our pipe which takes in input **mapping rules** and a **SQL database** and output data in the **FHIR format**."
   ]
  },
  {
   "cell_type": "markdown",
   "metadata": {},
   "source": [
    "## Set up\n",
    "\n",
    "Before starting, you need... mapping and a SQL database! Fortunately we have already provided some rules in the repository [`fhir-mapping`](https://github.com/arkhn/fhir-mapping), so all you have to do is to clone it in the same folder than `fhir-pipe`. Regarding data, well, we have provided a small SQL script `config_cw_local.sql` which will build a very small and fake database following the CW format and which is for illustrative purpose. To build your mock `cw_local` database, [install psql](https://www.postgresql.org/download/) (_you only need the command line tool_) and run:\n",
    "\n",
    "    psql -f config_cw_local.sql "
   ]
  },
  {
   "cell_type": "markdown",
   "metadata": {},
   "source": [
    "## Let's get started !"
   ]
  },
  {
   "cell_type": "code",
   "execution_count": 1,
   "metadata": {},
   "outputs": [],
   "source": [
    "import json\n",
    "import arkhn"
   ]
  },
  {
   "cell_type": "markdown",
   "metadata": {},
   "source": [
    "> If it doesn't work, import it in your bash_profile / bash_rc if necessary, eg you can add the line as we don't have a `setup.py` so far (<-- Good First Issue)\n",
    ">\n",
    ">     export PYTHONPATH=$PYTHONPATH:/Users/ryffel/Documents/Code/fhir_pipe"
   ]
  },
  {
   "cell_type": "markdown",
   "metadata": {},
   "source": [
    "Precise the project and the FHIR resource you want to fill"
   ]
  },
  {
   "cell_type": "code",
   "execution_count": 2,
   "metadata": {},
   "outputs": [],
   "source": [
    "project = 'CW'\n",
    "resource = 'patient'\n",
    "data = arkhn.loader.load(project, resource)"
   ]
  },
  {
   "cell_type": "code",
   "execution_count": 3,
   "metadata": {},
   "outputs": [],
   "source": [
    "patient = data['fhir']\n",
    "info = data['info']"
   ]
  },
  {
   "cell_type": "markdown",
   "metadata": {},
   "source": [
    "### Fetch the data from SQL\n",
    "\n",
    "Build the SQL query, and output also the graph of joins"
   ]
  },
  {
   "cell_type": "code",
   "execution_count": 4,
   "metadata": {
    "scrolled": true
   },
   "outputs": [
    {
     "name": "stdout",
     "output_type": "stream",
     "text": [
      "PATIENT --- PATCOMP\n",
      "PATIENT --- PATADR\n",
      "PATADR --- PAYS\n",
      "PATIENT -<= PAT_PAP\n",
      "PAT_PAP --- TYPELIEN\n"
     ]
    }
   ],
   "source": [
    "sql_query, squash_rules, graph = arkhn.parser.build_sql_query(project, patient, info)"
   ]
  },
  {
   "cell_type": "code",
   "execution_count": 5,
   "metadata": {},
   "outputs": [
    {
     "data": {
      "text/plain": [
       "[PATIENT O2O:(PATCOMP,PATADR) O2M:(PAT_PAP)]"
      ]
     },
     "execution_count": 5,
     "metadata": {},
     "output_type": "execute_result"
    }
   ],
   "source": [
    "graph.get('PATIENT')"
   ]
  },
  {
   "cell_type": "code",
   "execution_count": 6,
   "metadata": {
    "scrolled": false
   },
   "outputs": [
    {
     "name": "stdout",
     "output_type": "stream",
     "text": [
      "[(0, 1, 2, 3, 4, 5, 6, 7, 8, 9, 10, 11, 12, 13, 14, 15, 16), [[(17, 18, 19, 20, 21, 22, 23, 24, 25, 26, 27, 28), []]]]\n",
      "SELECT PATCOMP.NUMSECU, PATCOMP.INSEE, PATIENT.NOMPAT, PATIENT.PREPAT, PATADR.TEL, PATIENT.SEXE, PATIENT.DTNAIS, PATIENT.DECEDE, PATIENT.DTDECES, PATADR.ADR1, PATADR.ADR2, PATADR.ADR3, PATADR.ADR4, PATADR.VILLE, PATADR.CP, PAYS.LIBELLE, PATCOMP.SITUAFAM, TYPELIEN.LIENFAMILIAL, PAT_PAP.NOM, PAT_PAP.PRENOM, PAT_PAP.TELDOM, PAT_PAP.TELDOM, PAT_PAP.TELDOM, PAT_PAP.TELMOB, PAT_PAP.TELMOB, PAT_PAP.TELMOB, PAT_PAP.TELPROF, PAT_PAP.TELPROF, PAT_PAP.TELPROF FROM PATIENT LEFT JOIN PATCOMP ON PATIENT.NOPAT = PATCOMP.NOPAT LEFT JOIN PATADR ON PATIENT.NOPAT = PATADR.NOPAT LEFT JOIN PAYS ON PATADR.NOPAYS = PAYS.NOPAYS LEFT JOIN PAT_PAP ON PATIENT.NOPAT = PAT_PAP.NOPAT LEFT JOIN TYPELIEN ON PAT_PAP.NOTYPE_LP = TYPELIEN.NOTYPELIEN;\n"
     ]
    }
   ],
   "source": [
    "print(squash_rules)\n",
    "print(sql_query)"
   ]
  },
  {
   "cell_type": "markdown",
   "metadata": {},
   "source": [
    "Run the SQL query"
   ]
  },
  {
   "cell_type": "code",
   "execution_count": 7,
   "metadata": {},
   "outputs": [],
   "source": [
    "rows = arkhn.sql.run(sql_query)"
   ]
  },
  {
   "cell_type": "markdown",
   "metadata": {},
   "source": [
    "Show results "
   ]
  },
  {
   "cell_type": "code",
   "execution_count": 8,
   "metadata": {},
   "outputs": [
    {
     "name": "stdout",
     "output_type": "stream",
     "text": [
      "('188097728809897', '27770', 'SARDOU', 'MICHELLE', '01-34.87 21 00', 'F', '19700401', 'N', '', '3 rue Soufflot', 'Batiment 23', '', '', 'Paris 5e', '75005', 'FRANCE', 'M', 'Pere', 'GOTTAR', 'Michel', '0666775328', '0666775328', '0666775328', '', '', '', '', '', '')\n",
      "('NaN', '262047511447626', 'KIRIKOU', 'MARCEL', '01-00.87 20 00', 'M', '19940506', 'O', '20180922', '69 Bvd St Germain', 'Hôtel de Guermantes', '', '', 'Paris', '75006', 'LIECHTENSTEIN', 'V', 'Mere', 'Guermantes', 'Alphonse', '06 86 79 53 63', '06 86 79 53 63', '06 86 79 53 63', '', '', '', '', '', '')\n",
      "('NaN', '262047511447626', 'KIRIKOU', 'MARCEL', '01-00.87 20 00', 'M', '19940506', 'O', '20180922', '69 Bvd St Germain', 'Hôtel de Guermantes', '', '', 'Paris', '75006', 'LIECHTENSTEIN', 'V', 'Femme', 'De Saint Loup', 'Robert', '', '', '', '07 86 29 00 61', '07 86 29 00 61', '07 86 29 00 61', '', '', '')\n"
     ]
    }
   ],
   "source": [
    "for row in rows:\n",
    "    print(row)"
   ]
  },
  {
   "cell_type": "markdown",
   "metadata": {},
   "source": [
    "### Process the data and fill in the FHIR format"
   ]
  },
  {
   "cell_type": "markdown",
   "metadata": {},
   "source": [
    "Apply the One to Many joins: for example here rows 2 and 3 refer to the same patient, but with two contact person to call. Using `squash_rules` you can merge/squash these two rows."
   ]
  },
  {
   "cell_type": "code",
   "execution_count": 9,
   "metadata": {},
   "outputs": [],
   "source": [
    "rows = arkhn.sql.apply_joins(rows, squash_rules)"
   ]
  },
  {
   "cell_type": "markdown",
   "metadata": {},
   "source": [
    "There is now only 2 rows"
   ]
  },
  {
   "cell_type": "code",
   "execution_count": 10,
   "metadata": {},
   "outputs": [
    {
     "name": "stdout",
     "output_type": "stream",
     "text": [
      "['188097728809897', '27770', 'SARDOU', 'MICHELLE', '01-34.87 21 00', 'F', '19700401', 'N', '', '3 rue Soufflot', 'Batiment 23', '', '', 'Paris 5e', '75005', 'FRANCE', 'M', [['Pere', 'GOTTAR', 'Michel', '0666775328', '0666775328', '0666775328', '', '', '', '', '', '']]]\n",
      "['NaN', '262047511447626', 'KIRIKOU', 'MARCEL', '01-00.87 20 00', 'M', '19940506', 'O', '20180922', '69 Bvd St Germain', 'Hôtel de Guermantes', '', '', 'Paris', '75006', 'LIECHTENSTEIN', 'V', [['Mere', 'Guermantes', 'Alphonse', '06 86 79 53 63', '06 86 79 53 63', '06 86 79 53 63', '', '', '', '', '', ''], ['Femme', 'De Saint Loup', 'Robert', '', '', '', '07 86 29 00 61', '07 86 29 00 61', '07 86 29 00 61', '', '', '']]]\n"
     ]
    }
   ],
   "source": [
    "for row in rows:\n",
    "    print(row)"
   ]
  },
  {
   "cell_type": "markdown",
   "metadata": {},
   "source": [
    "Generate JSON and output it to `data.txt`"
   ]
  },
  {
   "cell_type": "code",
   "execution_count": 11,
   "metadata": {
    "scrolled": true
   },
   "outputs": [
    {
     "name": "stdout",
     "output_type": "stream",
     "text": [
      "***\n",
      "Entity with 22 elems\n",
      "{\n",
      "  \"resourceType\": \"Patient\",\n",
      "  \"identifier\": [\n",
      "    {\n",
      "      \"type\": {\n",
      "        \"text\": \"Num secu INSEE\"\n",
      "      },\n",
      "      \"value\": \"188097728809897\"\n",
      "    }\n",
      "  ],\n",
      "  \"name\": [\n",
      "    {\n",
      "      \"family\": \"Sardou\",\n",
      "      \"given\": [\n",
      "        \"Michelle\"\n",
      "      ]\n",
      "    }\n",
      "  ],\n",
      "  \"telecom\": [\n",
      "    {\n",
      "      \"system\": \"phone\",\n",
      "      \"value\": \"01 34 87 21 00\"\n",
      "    }\n",
      "  ],\n",
      "  \"gender\": \"female\",\n",
      "  \"birthDate\": \"1970-04-01T00:00:00\",\n",
      "  \"deceasedBoolean\": false,\n",
      "  \"address\": [\n",
      "    {\n",
      "      \"line\": [\n",
      "        \"3 rue Soufflot\",\n",
      "        \"Batiment 23\"\n",
      "      ],\n",
      "      \"city\": \"Paris 5e\",\n",
      "      \"postalCode\": \"75005\",\n",
      "      \"country\": \"France\"\n",
      "    }\n",
      "  ],\n",
      "  \"maritalStatus\": {\n",
      "    \"text\": \"Marié(e)\"\n",
      "  },\n",
      "  \"contact\": [\n",
      "    {\n",
      "      \"relationship\": [\n",
      "        {\n",
      "          \"text\": \"Pere\"\n",
      "        }\n",
      "      ],\n",
      "      \"name\": {\n",
      "        \"family\": \"Gottar\",\n",
      "        \"given\": [\n",
      "          \"Michel\"\n",
      "        ]\n",
      "      },\n",
      "      \"telecom\": [\n",
      "        {\n",
      "          \"system\": \"phone\",\n",
      "          \"value\": \"06 66 77 53 28\",\n",
      "          \"use\": \"home\"\n",
      "        }\n",
      "      ]\n",
      "    }\n",
      "  ]\n",
      "}\n",
      "***\n",
      "Entity with 29 elems\n",
      "{\n",
      "  \"resourceType\": \"Patient\",\n",
      "  \"identifier\": [\n",
      "    {\n",
      "      \"type\": {\n",
      "        \"text\": \"Num secu INSEE\"\n",
      "      },\n",
      "      \"value\": \"262047511447626\"\n",
      "    }\n",
      "  ],\n",
      "  \"name\": [\n",
      "    {\n",
      "      \"family\": \"Kirikou\",\n",
      "      \"given\": [\n",
      "        \"Marcel\"\n",
      "      ]\n",
      "    }\n",
      "  ],\n",
      "  \"telecom\": [\n",
      "    {\n",
      "      \"system\": \"phone\",\n",
      "      \"value\": \"01 00 87 20 00\"\n",
      "    }\n",
      "  ],\n",
      "  \"gender\": \"male\",\n",
      "  \"birthDate\": \"1994-05-06T00:00:00\",\n",
      "  \"deceasedBoolean\": true,\n",
      "  \"deceasedDateTime\": \"2018-09-22T00:00:00\",\n",
      "  \"address\": [\n",
      "    {\n",
      "      \"line\": [\n",
      "        \"69 Bvd St Germain\",\n",
      "        \"Hôtel de Guermantes\"\n",
      "      ],\n",
      "      \"city\": \"Paris\",\n",
      "      \"postalCode\": \"75006\",\n",
      "      \"country\": \"Liechtenstein\"\n",
      "    }\n",
      "  ],\n",
      "  \"maritalStatus\": {\n",
      "    \"text\": \"Veuvage\"\n",
      "  },\n",
      "  \"contact\": [\n",
      "    {\n",
      "      \"relationship\": [\n",
      "        {\n",
      "          \"text\": \"Mere\"\n",
      "        }\n",
      "      ],\n",
      "      \"name\": {\n",
      "        \"family\": \"Guermantes\",\n",
      "        \"given\": [\n",
      "          \"Alphonse\"\n",
      "        ]\n",
      "      },\n",
      "      \"telecom\": [\n",
      "        {\n",
      "          \"system\": \"phone\",\n",
      "          \"value\": \"06 86 79 53 63\",\n",
      "          \"use\": \"home\"\n",
      "        }\n",
      "      ]\n",
      "    },\n",
      "    {\n",
      "      \"relationship\": [\n",
      "        {\n",
      "          \"text\": \"Femme\"\n",
      "        }\n",
      "      ],\n",
      "      \"name\": {\n",
      "        \"family\": \"De Saint Loup\",\n",
      "        \"given\": [\n",
      "          \"Robert\"\n",
      "        ]\n",
      "      },\n",
      "      \"telecom\": [\n",
      "        {\n",
      "          \"system\": \"phone\",\n",
      "          \"value\": \"07 86 29 00 61\",\n",
      "          \"use\": \"mobile\"\n",
      "        }\n",
      "      ]\n",
      "    }\n",
      "  ]\n",
      "}\n"
     ]
    }
   ],
   "source": [
    "json_rows = []\n",
    "for row in rows:\n",
    "    print('***')\n",
    "    row = list(row)\n",
    "    tree = arkhn.parser.dfs_create_fhir(project, patient, row)\n",
    "    tree, n_leafs = arkhn.parser.clean_fhir(tree)\n",
    "    json_rows.append(tree)\n",
    "    print('Entity with', n_leafs, 'elems')\n",
    "    print(json.dumps(tree, indent=2, ensure_ascii=False))\n",
    "\n",
    "# Uncomment to write to file\n",
    "# arkhn.parser.write_to_file(json_rows, 'integrated_data/data.txt')"
   ]
  },
  {
   "cell_type": "markdown",
   "metadata": {},
   "source": [
    "## Import mappings from distant end point"
   ]
  },
  {
   "cell_type": "code",
   "execution_count": 130,
   "metadata": {},
   "outputs": [],
   "source": [
    "import requests"
   ]
  },
  {
   "cell_type": "code",
   "execution_count": 131,
   "metadata": {},
   "outputs": [],
   "source": [
    "def run_query(endpoint, headers, query):\n",
    "    request = requests.post(\n",
    "        endpoint,\n",
    "        headers=headers,\n",
    "        json={\n",
    "            'query': query,\n",
    "            'variables': None,\n",
    "            'operationName': None,\n",
    "        }\n",
    "    )\n",
    "\n",
    "    if request.status_code == 200:\n",
    "        return request.json()\n",
    "    else:\n",
    "        raise Exception(\"Query failed with returning code {}.\".format(request.status_code))"
   ]
  },
  {
   "cell_type": "code",
   "execution_count": 132,
   "metadata": {},
   "outputs": [],
   "source": [
    "endpoint = 'https://graphql.live.arkhn.org/'"
   ]
  },
  {
   "cell_type": "code",
   "execution_count": 133,
   "metadata": {},
   "outputs": [],
   "source": [
    "headers = {\n",
    "    \"content-type\": \"application/json\",\n",
    "}"
   ]
  },
  {
   "cell_type": "code",
   "execution_count": 134,
   "metadata": {},
   "outputs": [],
   "source": [
    "query = \"\"\"\n",
    "fragment db on Database {\n",
    "  id\n",
    "  name\n",
    "}\n",
    "\n",
    "query {\n",
    "  database(where: {\n",
    "    name: \"Crossway\"\n",
    "  }) {\n",
    "    ...db\n",
    "  }\n",
    "}\n",
    "\"\"\""
   ]
  },
  {
   "cell_type": "code",
   "execution_count": 135,
   "metadata": {},
   "outputs": [
    {
     "name": "stdout",
     "output_type": "stream",
     "text": [
      "{'data': {'database': {'id': 'cjpiarhzxmfmu0a611t9zwqgm', 'name': 'Crossway'}}}\n"
     ]
    }
   ],
   "source": [
    "print(run_query(endpoint, headers, query))"
   ]
  }
 ],
 "metadata": {
  "kernelspec": {
   "display_name": "Python 3",
   "language": "python",
   "name": "python3"
  },
  "language_info": {
   "codemirror_mode": {
    "name": "ipython",
    "version": 3
   },
   "file_extension": ".py",
   "mimetype": "text/x-python",
   "name": "python",
   "nbconvert_exporter": "python",
   "pygments_lexer": "ipython3",
   "version": "3.6.4"
  }
 },
 "nbformat": 4,
 "nbformat_minor": 1
}
